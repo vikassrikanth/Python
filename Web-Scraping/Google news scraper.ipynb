{
 "cells": [
  {
   "cell_type": "code",
   "execution_count": 2,
   "metadata": {},
   "outputs": [],
   "source": [
    "import requests\n",
    "import os\n",
    "import time\n",
    "import json\n",
    "from bs4 import BeautifulSoup\n",
    "\n",
    "os.chdir(\"C:\\\\Users\\\\vikas\\\\Desktop\\\\News-scraper\")"
   ]
  },
  {
   "cell_type": "code",
   "execution_count": null,
   "metadata": {},
   "outputs": [],
   "source": [
    "Location='Dallas'\n",
    "query=https://www.google.com/search?q=crime+news+{Location}&tbm=nws&tbs=sbd:1&sa=X"
   ]
  },
  {
   "cell_type": "code",
   "execution_count": null,
   "metadata": {},
   "outputs": [],
   "source": [
    "import requests\n",
    "from fake_useragent import UserAgent\n",
    "from bs4 import BeautifulSoup\n",
    "\n",
    "ua = UserAgent()\n",
    "\n",
    "google_url = \"https://www.google.com/search?q=\" + query + \"&num=\" + str(number_result)\n",
    "response = requests.get(google_url, {\"User-Agent\": ua.random})\n",
    "soup = BeautifulSoup(response.text, \"html.parser\")\n",
    "\n",
    "result_div = soup.find_all('div', attrs = {'class': 'ZINbbc'})\n",
    "\n",
    "links = []\n",
    "titles = []\n",
    "descriptions = []\n",
    "for r in result_div:\n",
    "    # Checks if each element is present, else, raise exception\n",
    "    try:\n",
    "        link = r.find('a', href = True)\n",
    "        title = r.find('div', attrs={'class':'vvjwJb'}).get_text()\n",
    "        description = r.find('div', attrs={'class':'s3v9rd'}).get_text()\n",
    "        \n",
    "        # Check to make sure everything is present before appending\n",
    "        if link != '' and title != '' and description != '': \n",
    "            links.append(link['href'])\n",
    "            titles.append(title)\n",
    "            descriptions.append(description)\n",
    "    # Next loop if one element is not present\n",
    "    except:\n",
    "        continue"
   ]
  },
  {
   "cell_type": "code",
   "execution_count": 11,
   "metadata": {},
   "outputs": [
    {
     "name": "stderr",
     "output_type": "stream",
     "text": [
      "[WDM] - Current google-chrome version is 84.0.4147\n",
      "[WDM] - Get LATEST driver version for 84.0.4147\n"
     ]
    },
    {
     "name": "stdout",
     "output_type": "stream",
     "text": [
      " \n"
     ]
    },
    {
     "name": "stderr",
     "output_type": "stream",
     "text": [
      "[WDM] - There is no [win32] chromedriver for browser 84.0.4147 in cache\n",
      "[WDM] - Get LATEST driver version for 84.0.4147\n",
      "[WDM] - Trying to download new driver from http://chromedriver.storage.googleapis.com/84.0.4147.30/chromedriver_win32.zip\n",
      "[WDM] - Driver has been saved in cache [C:\\Users\\vikas\\.wdm\\drivers\\chromedriver\\win32\\84.0.4147.30]\n"
     ]
    }
   ],
   "source": [
    "from selenium import webdriver\n",
    "from webdriver_manager.chrome import ChromeDriverManager\n",
    "\n"
   ]
  },
  {
   "cell_type": "code",
   "execution_count": 14,
   "metadata": {},
   "outputs": [
    {
     "name": "stderr",
     "output_type": "stream",
     "text": [
      "[WDM] - Current google-chrome version is 84.0.4147\n",
      "[WDM] - Get LATEST driver version for 84.0.4147\n",
      "[WDM] - Driver [C:\\Users\\vikas\\.wdm\\drivers\\chromedriver\\win32\\84.0.4147.30\\chromedriver.exe] found in cache\n"
     ]
    },
    {
     "name": "stdout",
     "output_type": "stream",
     "text": [
      " \n"
     ]
    }
   ],
   "source": [
    "driver = webdriver.Chrome(ChromeDriverManager().install())"
   ]
  },
  {
   "cell_type": "code",
   "execution_count": 15,
   "metadata": {},
   "outputs": [
    {
     "name": "stdout",
     "output_type": "stream",
     "text": [
      "[]\n",
      "[]\n",
      "[]\n"
     ]
    }
   ],
   "source": [
    "#driver = webdriver.Chrome('chromedriver')\n",
    "google_url = \"https://www.google.com/search?q=crime+news++Dallas&tbm=nws&tbs=sbd:1&sa=X\"#&num=\" + str(number_result) + \n",
    "#https://www.google.com/search?q=crime+news+Dallas&tbm=nws&tbs=sbd:1&sa=X\n",
    "#google_url = \"https://www.google.com/search?q=\" + query + \"&num=\" + str(number_result) + \"&tbs=cdr:1,cd_min:01/28/2019,cd_max:01/28/2020\"\n",
    "driver.get(google_url)\n",
    "time.sleep(3)\n",
    "\n",
    "soup = BeautifulSoup(driver.page_source,'lxml')\n",
    "result_div = soup.find_all('div', attrs={'class': 'g'})\n",
    "\n",
    "\n",
    "links = []\n",
    "titles = []\n",
    "descriptions = []\n",
    "for r in result_div:\n",
    "    # Checks if each element is present, else, raise exception\n",
    "    try:\n",
    "        link = r.find('a', href=True)\n",
    "        title = None\n",
    "        title = r.find('h3')\n",
    "\n",
    "        if isinstance(title,Tag):\n",
    "            title = title.get_text()\n",
    "\n",
    "        description = None\n",
    "        description = r.find('span', attrs={'class': 'st'})\n",
    "\n",
    "        if isinstance(description, Tag):\n",
    "            description = description.get_text()\n",
    "\n",
    "        # Check to make sure everything is present before appending\n",
    "        if link != '' and title != '' and description != '':\n",
    "            links.append(link['href'])\n",
    "            titles.append(title)\n",
    "            descriptions.append(description)\n",
    "    # Next loop if one element is not present\n",
    "    except Exception as e:\n",
    "        print(e)\n",
    "        continue\n",
    "\n",
    "print(titles)\n",
    "print(links)\n",
    "print(descriptions)\n"
   ]
  },
  {
   "cell_type": "code",
   "execution_count": 3,
   "metadata": {},
   "outputs": [],
   "source": [
    "import requests\n",
    "#from BeautifulSoup import BeautifulSoup\n",
    "page = requests.get(\"https://www.google.com/search?q=crime+news++Dallas&tbm=nws&tbs=sbd:1&sa=X\")\n",
    "#page = requests.get(\"https://www.google.com/search?q=crime+news++Dallas&tbm=nws\")\n",
    "soup = BeautifulSoup(page.content)\n",
    "#links = soup.findAll(\"a\")"
   ]
  },
  {
   "cell_type": "markdown",
   "metadata": {},
   "source": [
    "import re\n",
    "allLinks=[]\n",
    "links = soup.findAll(\"a\")\n",
    "for link in  soup.find_all(\"a\",href=re.compile(\"(?<=/url\\?q=)(htt.*://.*)\")):\n",
    "    \"\".join(allLinks)\n",
    "    allLinks.append(re.split(\":(?=http)\",link[\"href\"].replace(\"/url?q=\",\"\")))\n",
    "    print(re.split(\":(?=http)\",link[\"href\"].replace(\"/url?q=\",\"\")))"
   ]
  },
  {
   "cell_type": "code",
   "execution_count": 4,
   "metadata": {},
   "outputs": [
    {
     "ename": "NameError",
     "evalue": "name 'links' is not defined",
     "output_type": "error",
     "traceback": [
      "\u001b[1;31m---------------------------------------------------------------------------\u001b[0m",
      "\u001b[1;31mNameError\u001b[0m                                 Traceback (most recent call last)",
      "\u001b[1;32m<ipython-input-4-e85b8cb4623b>\u001b[0m in \u001b[0;36m<module>\u001b[1;34m\u001b[0m\n\u001b[1;32m----> 1\u001b[1;33m \u001b[0mlinks\u001b[0m\u001b[1;33m\u001b[0m\u001b[1;33m\u001b[0m\u001b[0m\n\u001b[0m",
      "\u001b[1;31mNameError\u001b[0m: name 'links' is not defined"
     ]
    }
   ],
   "source": [
    "links"
   ]
  },
  {
   "cell_type": "code",
   "execution_count": 5,
   "metadata": {},
   "outputs": [],
   "source": [
    "import re\n",
    "allLinks=[]\n",
    "for link in  soup.find_all(\"a\",href=re.compile(\"(?<=/url\\?q=)(htt.*://.*)\")):\n",
    "    #\"\".join(allLinks)\n",
    "   \n",
    "    allLinks.append(re.split(\":(?=http)\",link[\"href\"].replace(\"/url?q=\",\"\")))\n",
    "    #print(re.split(\":(?=http)\",link[\"href\"].replace(\"/url?q=\",\"\")))\n",
    "res=[''.join([str(c) for c in lst]) for lst in allLinks]"
   ]
  },
  {
   "cell_type": "code",
   "execution_count": 6,
   "metadata": {},
   "outputs": [
    {
     "data": {
      "text/plain": [
       "['https://www.dallasnews.com/news/crime/2020/07/29/20-year-old-woman-charged-with-murder-in-fatal-shooting-in-cedar-hill/&sa=U&ved=2ahUKEwjpxO6_2fLqAhVSOKwKHa_ZDWgQxfQBMAB6BAgBEAE&usg=AOvVaw1nBiKMnha_n8E3fckG9Ulu',\n",
       " 'https://www.dallasnews.com/news/crime/2020/07/29/20-year-old-woman-charged-with-murder-in-fatal-shooting-in-cedar-hill/&sa=U&ved=2ahUKEwjpxO6_2fLqAhVSOKwKHa_ZDWgQ0Y8FMAB6BAgBEAI&usg=AOvVaw3L3guI5dCVMzAQJgzh5ssa',\n",
       " 'https://andoverleader.com/4-people-injured-in-a-shooting-outside-a-dallas-bar-after-men-denied-entry-over-the-coronavirus-restrictions&sa=U&ved=2ahUKEwjpxO6_2fLqAhVSOKwKHa_ZDWgQxfQBMAF6BAgJEAE&usg=AOvVaw3wS13L2kA5v_Re5enHrj8y',\n",
       " 'https://andoverleader.com/4-people-injured-in-a-shooting-outside-a-dallas-bar-after-men-denied-entry-over-the-coronavirus-restrictions&sa=U&ved=2ahUKEwjpxO6_2fLqAhVSOKwKHa_ZDWgQ0Y8FMAF6BAgJEAI&usg=AOvVaw3EXxTulgGa30A_mAQu_dDm',\n",
       " 'https://www.buzzfeedzz.com/en-us/news/crime/dallas-police-association-president-mike-mata-cleared-of-tampering-charge-in-amber-guyger-murder-case/ZZ17iIV5&sa=U&ved=2ahUKEwjpxO6_2fLqAhVSOKwKHa_ZDWgQxfQBMAJ6BAgHEAE&usg=AOvVaw0S6utsZaulAfoHHrJHBml8',\n",
       " 'https://www.buzzfeedzz.com/en-us/news/crime/dallas-police-association-president-mike-mata-cleared-of-tampering-charge-in-amber-guyger-murder-case/ZZ17iIV5&sa=U&ved=2ahUKEwjpxO6_2fLqAhVSOKwKHa_ZDWgQ0Y8FMAJ6BAgHEAI&usg=AOvVaw0UsKQTz8XyG-J4IAZ5ijyv',\n",
       " 'https://www.dallasnews.com/news/politics/2020/07/28/heres-5-things-to-know-about-dallas-efforts-to-provide-independent-police-oversight/&sa=U&ved=2ahUKEwjpxO6_2fLqAhVSOKwKHa_ZDWgQxfQBMAN6BAgIEAE&usg=AOvVaw1_ViGKe0BmVjHZ4Pq9TuWp',\n",
       " 'https://www.dallasnews.com/news/politics/2020/07/28/heres-5-things-to-know-about-dallas-efforts-to-provide-independent-police-oversight/&sa=U&ved=2ahUKEwjpxO6_2fLqAhVSOKwKHa_ZDWgQ0Y8FMAN6BAgIEAI&usg=AOvVaw0DTNQpO3hVXZ_EjBcRWbJm',\n",
       " 'https://www.dallasnews.com/news/crime/2020/07/28/man-vandalizes-memorial-to-slain-austin-protestor-posts-video-of-act-on-social-media/&sa=U&ved=2ahUKEwjpxO6_2fLqAhVSOKwKHa_ZDWgQxfQBMAR6BAgGEAE&usg=AOvVaw0NHOdiGR7ZAH48psQiE9Ff',\n",
       " 'https://www.dallasnews.com/news/crime/2020/07/28/man-vandalizes-memorial-to-slain-austin-protestor-posts-video-of-act-on-social-media/&sa=U&ved=2ahUKEwjpxO6_2fLqAhVSOKwKHa_ZDWgQ0Y8FMAR6BAgGEAI&usg=AOvVaw30dLg4zk8douudJrG_LUJx',\n",
       " 'https://www.dallasnews.com/news/education/2020/07/28/parents-who-cant-work-from-home-how-do-you-choose-online-vs-in-person-school-for-your-children/&sa=U&ved=2ahUKEwjpxO6_2fLqAhVSOKwKHa_ZDWgQxfQBMAV6BAgAEAE&usg=AOvVaw2b-J8rwJwmwU6lN4E_C1C5',\n",
       " 'https://www.dallasnews.com/news/education/2020/07/28/parents-who-cant-work-from-home-how-do-you-choose-online-vs-in-person-school-for-your-children/&sa=U&ved=2ahUKEwjpxO6_2fLqAhVSOKwKHa_ZDWgQ0Y8FMAV6BAgAEAI&usg=AOvVaw3kLTmMKVwE2nRF686qcS-8',\n",
       " 'https://www.mytexasdaily.com/north-texas/dallas-police-release-surveillance-video-in-homicide-investigation-in-attempt-to-garner-tips/article_fde56bd8-d11f-11ea-bb7a-2f6eee2755d0.html&sa=U&ved=2ahUKEwjpxO6_2fLqAhVSOKwKHa_ZDWgQxfQBMAZ6BAgDEAE&usg=AOvVaw2o_U6CZKJZr4wSS1KcGYEV',\n",
       " 'https://www.mytexasdaily.com/north-texas/dallas-police-release-surveillance-video-in-homicide-investigation-in-attempt-to-garner-tips/article_fde56bd8-d11f-11ea-bb7a-2f6eee2755d0.html&sa=U&ved=2ahUKEwjpxO6_2fLqAhVSOKwKHa_ZDWgQ0Y8FMAZ6BAgDEAI&usg=AOvVaw3uO1JpGvqgq_eF-h8iQ-rr',\n",
       " 'https://www.star-telegram.com/news/local/crime/article244438197.html&sa=U&ved=2ahUKEwjpxO6_2fLqAhVSOKwKHa_ZDWgQxfQBMAd6BAgCEAE&usg=AOvVaw1MMz0NdHt9JJI_Kjx7wLKV',\n",
       " 'https://www.star-telegram.com/news/local/crime/article244438197.html&sa=U&ved=2ahUKEwjpxO6_2fLqAhVSOKwKHa_ZDWgQ0Y8FMAd6BAgCEAI&usg=AOvVaw2UhuK4-Sk0YFit4JmpgpSt',\n",
       " 'https://www.nbcdfw.com/news/local/us-officials-russia-spreading-virus-disinformation/2414829/&sa=U&ved=2ahUKEwjpxO6_2fLqAhVSOKwKHa_ZDWgQxfQBMAh6BAgEEAE&usg=AOvVaw0_VTZaPieSzMdq8rJfEQAX',\n",
       " 'https://www.nbcdfw.com/news/local/us-officials-russia-spreading-virus-disinformation/2414829/&sa=U&ved=2ahUKEwjpxO6_2fLqAhVSOKwKHa_ZDWgQ0Y8FMAh6BAgEEAI&usg=AOvVaw0YeJUjEBfuLBPZzAFzEwIB',\n",
       " 'https://www.dallasnews.com/news/crime/2020/07/28/three-men-arrested-charged-with-capital-murder-in-connection-with-2017-shooting-in-plano/&sa=U&ved=2ahUKEwjpxO6_2fLqAhVSOKwKHa_ZDWgQxfQBMAl6BAgFEAE&usg=AOvVaw1dZX-UFOsELMS8ztlo_7Q5',\n",
       " 'https://www.dallasnews.com/news/crime/2020/07/28/three-men-arrested-charged-with-capital-murder-in-connection-with-2017-shooting-in-plano/&sa=U&ved=2ahUKEwjpxO6_2fLqAhVSOKwKHa_ZDWgQ0Y8FMAl6BAgFEAI&usg=AOvVaw2J1i8mcqWgTWWfneR--fdu',\n",
       " 'https://accounts.google.com/ServiceLogin%3Fcontinue%3Dhttps://www.google.com/search%253Fq%253Dcrime%252Bnews%252B%252BDallas%2526tbm%253Dnws%2526tbs%253Dsbd:1%2526sa%253DX%26hl%3Den&sa=U&ved=0ahUKEwjpxO6_2fLqAhVSOKwKHa_ZDWgQxs8CCFc&usg=AOvVaw03ss0ojaqA9Btf3HLbNo-Z']"
      ]
     },
     "execution_count": 6,
     "metadata": {},
     "output_type": "execute_result"
    }
   ],
   "source": [
    "res"
   ]
  },
  {
   "cell_type": "code",
   "execution_count": 9,
   "metadata": {},
   "outputs": [],
   "source": [
    "from newspaper import Article\n",
    "import pandas as pd\n",
    "from newsfetch.news import newspaper"
   ]
  },
  {
   "cell_type": "code",
   "execution_count": 10,
   "metadata": {},
   "outputs": [],
   "source": [
    "def scrapeNews(link):\n",
    "    #article = Article(link)\n",
    "    #article.download()\n",
    "    #article.parse()\n",
    "    article = newspaper(link)\n",
    "    return article\n"
   ]
  },
  {
   "cell_type": "code",
   "execution_count": 7,
   "metadata": {},
   "outputs": [],
   "source": [
    "sep = '&sa='\n",
    "rest=[]\n",
    "for i in range(0,len(res)):\n",
    "    #''.join\n",
    "    rest.append(res[i].split(sep, 1)[0])"
   ]
  },
  {
   "cell_type": "code",
   "execution_count": 8,
   "metadata": {},
   "outputs": [
    {
     "data": {
      "text/plain": [
       "['https://www.dallasnews.com/news/crime/2020/07/29/20-year-old-woman-charged-with-murder-in-fatal-shooting-in-cedar-hill/',\n",
       " 'https://www.dallasnews.com/news/crime/2020/07/29/20-year-old-woman-charged-with-murder-in-fatal-shooting-in-cedar-hill/',\n",
       " 'https://andoverleader.com/4-people-injured-in-a-shooting-outside-a-dallas-bar-after-men-denied-entry-over-the-coronavirus-restrictions',\n",
       " 'https://andoverleader.com/4-people-injured-in-a-shooting-outside-a-dallas-bar-after-men-denied-entry-over-the-coronavirus-restrictions',\n",
       " 'https://www.buzzfeedzz.com/en-us/news/crime/dallas-police-association-president-mike-mata-cleared-of-tampering-charge-in-amber-guyger-murder-case/ZZ17iIV5',\n",
       " 'https://www.buzzfeedzz.com/en-us/news/crime/dallas-police-association-president-mike-mata-cleared-of-tampering-charge-in-amber-guyger-murder-case/ZZ17iIV5',\n",
       " 'https://www.dallasnews.com/news/politics/2020/07/28/heres-5-things-to-know-about-dallas-efforts-to-provide-independent-police-oversight/',\n",
       " 'https://www.dallasnews.com/news/politics/2020/07/28/heres-5-things-to-know-about-dallas-efforts-to-provide-independent-police-oversight/',\n",
       " 'https://www.dallasnews.com/news/crime/2020/07/28/man-vandalizes-memorial-to-slain-austin-protestor-posts-video-of-act-on-social-media/',\n",
       " 'https://www.dallasnews.com/news/crime/2020/07/28/man-vandalizes-memorial-to-slain-austin-protestor-posts-video-of-act-on-social-media/',\n",
       " 'https://www.dallasnews.com/news/education/2020/07/28/parents-who-cant-work-from-home-how-do-you-choose-online-vs-in-person-school-for-your-children/',\n",
       " 'https://www.dallasnews.com/news/education/2020/07/28/parents-who-cant-work-from-home-how-do-you-choose-online-vs-in-person-school-for-your-children/',\n",
       " 'https://www.mytexasdaily.com/north-texas/dallas-police-release-surveillance-video-in-homicide-investigation-in-attempt-to-garner-tips/article_fde56bd8-d11f-11ea-bb7a-2f6eee2755d0.html',\n",
       " 'https://www.mytexasdaily.com/north-texas/dallas-police-release-surveillance-video-in-homicide-investigation-in-attempt-to-garner-tips/article_fde56bd8-d11f-11ea-bb7a-2f6eee2755d0.html',\n",
       " 'https://www.star-telegram.com/news/local/crime/article244438197.html',\n",
       " 'https://www.star-telegram.com/news/local/crime/article244438197.html',\n",
       " 'https://www.nbcdfw.com/news/local/us-officials-russia-spreading-virus-disinformation/2414829/',\n",
       " 'https://www.nbcdfw.com/news/local/us-officials-russia-spreading-virus-disinformation/2414829/',\n",
       " 'https://www.dallasnews.com/news/crime/2020/07/28/three-men-arrested-charged-with-capital-murder-in-connection-with-2017-shooting-in-plano/',\n",
       " 'https://www.dallasnews.com/news/crime/2020/07/28/three-men-arrested-charged-with-capital-murder-in-connection-with-2017-shooting-in-plano/',\n",
       " 'https://accounts.google.com/ServiceLogin%3Fcontinue%3Dhttps://www.google.com/search%253Fq%253Dcrime%252Bnews%252B%252BDallas%2526tbm%253Dnws%2526tbs%253Dsbd:1%2526sa%253DX%26hl%3Den']"
      ]
     },
     "execution_count": 8,
     "metadata": {},
     "output_type": "execute_result"
    }
   ],
   "source": [
    "rest"
   ]
  },
  {
   "cell_type": "code",
   "execution_count": 11,
   "metadata": {
    "scrolled": true
   },
   "outputs": [],
   "source": [
    "metadata=[]\n",
    "for i in range(0,len(rest)-1):\n",
    "    metadata.append(scrapeNews(rest[i]))\n"
   ]
  },
  {
   "cell_type": "code",
   "execution_count": 12,
   "metadata": {},
   "outputs": [
    {
     "data": {
      "text/plain": [
       "20"
      ]
     },
     "execution_count": 12,
     "metadata": {},
     "output_type": "execute_result"
    }
   ],
   "source": [
    "len(metadata)"
   ]
  },
  {
   "cell_type": "code",
   "execution_count": 13,
   "metadata": {},
   "outputs": [],
   "source": [
    "data= pd.DataFrame(columns=['headline','authors','date_publish','description','publication','category',\n",
    "                               'source_domain','article','summary','keywords','url'])\n",
    "separator=','\n",
    "for i in range(0, len(metadata)):\n",
    "    data=data.append({'headline':metadata[i].headline, 'authors':separator.join(metadata[i].authors),'date_publish':metadata[i].date_publish,\n",
    "                     'description':metadata[i].description, 'publication':metadata[i].publication,'category':metadata[i].category,\n",
    "                     'source_domain':metadata[i].source_domain,'article':metadata[i].article, 'summary':metadata[i].summary,\n",
    "                     'keywords':separator.join(metadata[i].keywords),'url':metadata[i].uri }, ignore_index=True)\n"
   ]
  },
  {
   "cell_type": "code",
   "execution_count": 15,
   "metadata": {},
   "outputs": [
    {
     "data": {
      "text/html": [
       "<div>\n",
       "<style scoped>\n",
       "    .dataframe tbody tr th:only-of-type {\n",
       "        vertical-align: middle;\n",
       "    }\n",
       "\n",
       "    .dataframe tbody tr th {\n",
       "        vertical-align: top;\n",
       "    }\n",
       "\n",
       "    .dataframe thead th {\n",
       "        text-align: right;\n",
       "    }\n",
       "</style>\n",
       "<table border=\"1\" class=\"dataframe\">\n",
       "  <thead>\n",
       "    <tr style=\"text-align: right;\">\n",
       "      <th></th>\n",
       "      <th>headline</th>\n",
       "      <th>authors</th>\n",
       "      <th>date_publish</th>\n",
       "      <th>description</th>\n",
       "      <th>publication</th>\n",
       "      <th>category</th>\n",
       "      <th>source_domain</th>\n",
       "      <th>article</th>\n",
       "      <th>summary</th>\n",
       "      <th>keywords</th>\n",
       "      <th>url</th>\n",
       "    </tr>\n",
       "  </thead>\n",
       "  <tbody>\n",
       "    <tr>\n",
       "      <th>0</th>\n",
       "      <td>20-year-old woman charged with murder in fatal...</td>\n",
       "      <td>Catherine Marfin,Todd J. Gillman,Eva-Marie Aya...</td>\n",
       "      <td>2020-07-29 14:23:23</td>\n",
       "      <td>A 20-year-old woman was taken into custody in ...</td>\n",
       "      <td>Dallas News</td>\n",
       "      <td>Crime</td>\n",
       "      <td>www.dallasnews.com</td>\n",
       "      <td>A 20-year-old woman was taken into custody in ...</td>\n",
       "      <td>A 20-year-old woman was taken into custody in ...</td>\n",
       "      <td>cedar,information,shooting,victim,20yearold,st...</td>\n",
       "      <td>https://www.dallasnews.com/news/crime/2020/07/...</td>\n",
       "    </tr>\n",
       "    <tr>\n",
       "      <th>1</th>\n",
       "      <td>20-year-old woman charged with murder in fatal...</td>\n",
       "      <td>Catherine Marfin,Todd J. Gillman,Eva-Marie Aya...</td>\n",
       "      <td>2020-07-29 14:23:23</td>\n",
       "      <td>A 20-year-old woman was taken into custody in ...</td>\n",
       "      <td>Dallas News</td>\n",
       "      <td>Crime</td>\n",
       "      <td>www.dallasnews.com</td>\n",
       "      <td>A 20-year-old woman was taken into custody in ...</td>\n",
       "      <td>A 20-year-old woman was taken into custody in ...</td>\n",
       "      <td>cedar,information,shooting,victim,20yearold,st...</td>\n",
       "      <td>https://www.dallasnews.com/news/crime/2020/07/...</td>\n",
       "    </tr>\n",
       "    <tr>\n",
       "      <th>2</th>\n",
       "      <td>4 people injured in a shooting outside a Dalla...</td>\n",
       "      <td>Vinayaka Dalmia,Since My Childhood,I Have Alwa...</td>\n",
       "      <td>2020-07-29 08:30:03</td>\n",
       "      <td>None</td>\n",
       "      <td>Andover Leader</td>\n",
       "      <td>General News</td>\n",
       "      <td>andoverleader.com</td>\n",
       "      <td>Over the period of the last few days, we have ...</td>\n",
       "      <td>A shooting took place outside a sports bar in ...</td>\n",
       "      <td>started,shooting,men,dallas,restrictions,injur...</td>\n",
       "      <td>https://andoverleader.com/4-people-injured-in-...</td>\n",
       "    </tr>\n",
       "    <tr>\n",
       "      <th>3</th>\n",
       "      <td>4 people injured in a shooting outside a Dalla...</td>\n",
       "      <td>Vinayaka Dalmia,Since My Childhood,I Have Alwa...</td>\n",
       "      <td>2020-07-29 08:30:03</td>\n",
       "      <td>None</td>\n",
       "      <td>Andover Leader</td>\n",
       "      <td>General News</td>\n",
       "      <td>andoverleader.com</td>\n",
       "      <td>Over the period of the last few days, we have ...</td>\n",
       "      <td>A shooting took place outside a sports bar in ...</td>\n",
       "      <td>started,shooting,men,dallas,restrictions,injur...</td>\n",
       "      <td>https://andoverleader.com/4-people-injured-in-...</td>\n",
       "    </tr>\n",
       "    <tr>\n",
       "      <th>4</th>\n",
       "      <td>(Exclusive) Dallas Police Association Presiden...</td>\n",
       "      <td></td>\n",
       "      <td>None</td>\n",
       "      <td>Watch Now! A grand jury has decided not to ind...</td>\n",
       "      <td>BuzzFeed zz</td>\n",
       "      <td>None</td>\n",
       "      <td>www.buzzfeedzz.com</td>\n",
       "      <td>About this story: (Screen Reader) Although ten...</td>\n",
       "      <td>About this story: (Screen Reader)Although ten ...</td>\n",
       "      <td>dallas,talking,rights,tampering,geiger,guyger,...</td>\n",
       "      <td>https://www.buzzfeedzz.com/en-us/news/crime/da...</td>\n",
       "    </tr>\n",
       "    <tr>\n",
       "      <th>5</th>\n",
       "      <td>(Exclusive) Dallas Police Association Presiden...</td>\n",
       "      <td></td>\n",
       "      <td>None</td>\n",
       "      <td>Watch Now! A grand jury has decided not to ind...</td>\n",
       "      <td>BuzzFeed zz</td>\n",
       "      <td>None</td>\n",
       "      <td>www.buzzfeedzz.com</td>\n",
       "      <td>About this story: (Screen Reader) Although ten...</td>\n",
       "      <td>About this story: (Screen Reader)Although ten ...</td>\n",
       "      <td>dallas,talking,rights,tampering,geiger,guyger,...</td>\n",
       "      <td>https://www.buzzfeedzz.com/en-us/news/crime/da...</td>\n",
       "    </tr>\n",
       "    <tr>\n",
       "      <th>6</th>\n",
       "      <td>Here's 5 things to know about Dallas' efforts ...</td>\n",
       "      <td>Cassandra Jaramillo,Todd J. Gillman,Aria Jones...</td>\n",
       "      <td>2020-07-28 19:24:24</td>\n",
       "      <td>When Tonya McClary moved from New Orleans to D...</td>\n",
       "      <td>Dallas News</td>\n",
       "      <td>Politics</td>\n",
       "      <td>www.dallasnews.com</td>\n",
       "      <td>When Tonya McClary moved from New Orleans to D...</td>\n",
       "      <td>McClary and the revamped Community Police Over...</td>\n",
       "      <td>city,oversight,office,internal,efforts,dallas,...</td>\n",
       "      <td>https://www.dallasnews.com/news/politics/2020/...</td>\n",
       "    </tr>\n",
       "    <tr>\n",
       "      <th>7</th>\n",
       "      <td>Here's 5 things to know about Dallas' efforts ...</td>\n",
       "      <td>Cassandra Jaramillo,Todd J. Gillman,Aria Jones...</td>\n",
       "      <td>2020-07-28 19:24:24</td>\n",
       "      <td>When Tonya McClary moved from New Orleans to D...</td>\n",
       "      <td>Dallas News</td>\n",
       "      <td>Politics</td>\n",
       "      <td>www.dallasnews.com</td>\n",
       "      <td>When Tonya McClary moved from New Orleans to D...</td>\n",
       "      <td>McClary and the revamped Community Police Over...</td>\n",
       "      <td>city,oversight,office,internal,efforts,dallas,...</td>\n",
       "      <td>https://www.dallasnews.com/news/politics/2020/...</td>\n",
       "    </tr>\n",
       "    <tr>\n",
       "      <th>8</th>\n",
       "      <td>Man vandalizes memorial to slain Austin protes...</td>\n",
       "      <td>Marc Ramirez,Lauren Mcgaughy,Todd J. Gillman,A...</td>\n",
       "      <td>2020-07-28 23:54:03</td>\n",
       "      <td>Supporters spent hours cleaning a slain Austin...</td>\n",
       "      <td>Dallas News</td>\n",
       "      <td>Crime</td>\n",
       "      <td>www.dallasnews.com</td>\n",
       "      <td>Supporters spent hours cleaning a slain Austin...</td>\n",
       "      <td>Supporters spent hours cleaning a slain Austin...</td>\n",
       "      <td>memorial,man,media,austin,site,white,posted,po...</td>\n",
       "      <td>https://www.dallasnews.com/news/crime/2020/07/...</td>\n",
       "    </tr>\n",
       "    <tr>\n",
       "      <th>9</th>\n",
       "      <td>Man vandalizes memorial to slain Austin protes...</td>\n",
       "      <td>Marc Ramirez,Lauren Mcgaughy,Todd J. Gillman,A...</td>\n",
       "      <td>2020-07-28 23:54:03</td>\n",
       "      <td>Supporters spent hours cleaning a slain Austin...</td>\n",
       "      <td>Dallas News</td>\n",
       "      <td>Crime</td>\n",
       "      <td>www.dallasnews.com</td>\n",
       "      <td>Supporters spent hours cleaning a slain Austin...</td>\n",
       "      <td>Supporters spent hours cleaning a slain Austin...</td>\n",
       "      <td>memorial,man,media,austin,site,white,posted,po...</td>\n",
       "      <td>https://www.dallasnews.com/news/crime/2020/07/...</td>\n",
       "    </tr>\n",
       "    <tr>\n",
       "      <th>10</th>\n",
       "      <td>Parents who can't work from home: How do you c...</td>\n",
       "      <td>Dana Branham,Imelda García,Todd J. Gillman,Cat...</td>\n",
       "      <td>2020-07-28 22:41:05</td>\n",
       "      <td>Reporters at The Dallas Morning News and Al Di...</td>\n",
       "      <td>Dallas News</td>\n",
       "      <td>Education</td>\n",
       "      <td>www.dallasnews.com</td>\n",
       "      <td>Reporters at The Dallas Morning News and Al Di...</td>\n",
       "      <td>Reporters at The Dallas Morning News and Al Di...</td>\n",
       "      <td>cant,youre,willing,work,dallas,sending,childre...</td>\n",
       "      <td>https://www.dallasnews.com/news/education/2020...</td>\n",
       "    </tr>\n",
       "    <tr>\n",
       "      <th>11</th>\n",
       "      <td>Parents who can't work from home: How do you c...</td>\n",
       "      <td>Dana Branham,Imelda García,Todd J. Gillman,Cat...</td>\n",
       "      <td>2020-07-28 22:41:05</td>\n",
       "      <td>Reporters at The Dallas Morning News and Al Di...</td>\n",
       "      <td>Dallas News</td>\n",
       "      <td>Education</td>\n",
       "      <td>www.dallasnews.com</td>\n",
       "      <td>Reporters at The Dallas Morning News and Al Di...</td>\n",
       "      <td>Reporters at The Dallas Morning News and Al Di...</td>\n",
       "      <td>cant,youre,willing,work,dallas,sending,childre...</td>\n",
       "      <td>https://www.dallasnews.com/news/education/2020...</td>\n",
       "    </tr>\n",
       "    <tr>\n",
       "      <th>12</th>\n",
       "      <td>Dallas police release surveillance video in ho...</td>\n",
       "      <td>Mathew Richards</td>\n",
       "      <td>2020-07-28 16:16:00</td>\n",
       "      <td>DALLAS, Texas -- In an attempt to garner tips,...</td>\n",
       "      <td>MyTexasDaily.com</td>\n",
       "      <td>None</td>\n",
       "      <td>www.mytexasdaily.com</td>\n",
       "      <td>Close Get email notifications on {{subject}} d...</td>\n",
       "      <td>Close Get email notifications on {{subject}} d...</td>\n",
       "      <td>attempt,dallas,notification,release,notificati...</td>\n",
       "      <td>https://www.mytexasdaily.com/north-texas/dalla...</td>\n",
       "    </tr>\n",
       "    <tr>\n",
       "      <th>13</th>\n",
       "      <td>Dallas police release surveillance video in ho...</td>\n",
       "      <td>Mathew Richards</td>\n",
       "      <td>2020-07-28 16:16:00</td>\n",
       "      <td>DALLAS, Texas -- In an attempt to garner tips,...</td>\n",
       "      <td>MyTexasDaily.com</td>\n",
       "      <td>None</td>\n",
       "      <td>www.mytexasdaily.com</td>\n",
       "      <td>Close Get email notifications on {{subject}} d...</td>\n",
       "      <td>Close Get email notifications on {{subject}} d...</td>\n",
       "      <td>attempt,dallas,notification,release,notificati...</td>\n",
       "      <td>https://www.mytexasdaily.com/north-texas/dalla...</td>\n",
       "    </tr>\n",
       "    <tr>\n",
       "      <th>14</th>\n",
       "      <td></td>\n",
       "      <td></td>\n",
       "      <td>None</td>\n",
       "      <td>None</td>\n",
       "      <td>None</td>\n",
       "      <td>None</td>\n",
       "      <td>None</td>\n",
       "      <td></td>\n",
       "      <td></td>\n",
       "      <td></td>\n",
       "      <td>https://www.star-telegram.com/news/local/crime...</td>\n",
       "    </tr>\n",
       "    <tr>\n",
       "      <th>15</th>\n",
       "      <td></td>\n",
       "      <td></td>\n",
       "      <td>None</td>\n",
       "      <td>None</td>\n",
       "      <td>None</td>\n",
       "      <td>None</td>\n",
       "      <td>None</td>\n",
       "      <td></td>\n",
       "      <td></td>\n",
       "      <td></td>\n",
       "      <td>https://www.star-telegram.com/news/local/crime...</td>\n",
       "    </tr>\n",
       "    <tr>\n",
       "      <th>16</th>\n",
       "      <td>US Officials Say Russia Behind Spread of Virus...</td>\n",
       "      <td>Eric Tucker</td>\n",
       "      <td>2020-07-28 16:27:28</td>\n",
       "      <td>The U.S. government has identified two suspect...</td>\n",
       "      <td>NBC 5 Dallas-Fort Worth</td>\n",
       "      <td>None</td>\n",
       "      <td>www.nbcdfw.com</td>\n",
       "      <td>Russian intelligence services are using a trio...</td>\n",
       "      <td>The information had previously been classified...</td>\n",
       "      <td>information,websites,disinformation,officials,...</td>\n",
       "      <td>https://www.nbcdfw.com/news/local/us-officials...</td>\n",
       "    </tr>\n",
       "    <tr>\n",
       "      <th>17</th>\n",
       "      <td>US Officials Say Russia Behind Spread of Virus...</td>\n",
       "      <td>Eric Tucker</td>\n",
       "      <td>2020-07-28 16:27:28</td>\n",
       "      <td>The U.S. government has identified two suspect...</td>\n",
       "      <td>NBC 5 Dallas-Fort Worth</td>\n",
       "      <td>None</td>\n",
       "      <td>www.nbcdfw.com</td>\n",
       "      <td>Russian intelligence services are using a trio...</td>\n",
       "      <td>The information had previously been classified...</td>\n",
       "      <td>information,websites,disinformation,officials,...</td>\n",
       "      <td>https://www.nbcdfw.com/news/local/us-officials...</td>\n",
       "    </tr>\n",
       "    <tr>\n",
       "      <th>18</th>\n",
       "      <td>Three men face capital murder charges in conne...</td>\n",
       "      <td>Catherine Marfin,Todd J. Gillman,Eva-Marie Aya...</td>\n",
       "      <td>2020-07-28 19:57:10</td>\n",
       "      <td>Three men face capital murder charges in conne...</td>\n",
       "      <td>Dallas News</td>\n",
       "      <td>Crime</td>\n",
       "      <td>www.dallasnews.com</td>\n",
       "      <td>Three men face capital murder charges in conne...</td>\n",
       "      <td>Three men face capital murder charges in conne...</td>\n",
       "      <td>murder,shooting,men,capital,held,records,death...</td>\n",
       "      <td>https://www.dallasnews.com/news/crime/2020/07/...</td>\n",
       "    </tr>\n",
       "    <tr>\n",
       "      <th>19</th>\n",
       "      <td>Three men face capital murder charges in conne...</td>\n",
       "      <td>Catherine Marfin,Todd J. Gillman,Eva-Marie Aya...</td>\n",
       "      <td>2020-07-28 19:57:10</td>\n",
       "      <td>Three men face capital murder charges in conne...</td>\n",
       "      <td>Dallas News</td>\n",
       "      <td>Crime</td>\n",
       "      <td>www.dallasnews.com</td>\n",
       "      <td>Three men face capital murder charges in conne...</td>\n",
       "      <td>Three men face capital murder charges in conne...</td>\n",
       "      <td>murder,shooting,men,capital,held,records,death...</td>\n",
       "      <td>https://www.dallasnews.com/news/crime/2020/07/...</td>\n",
       "    </tr>\n",
       "  </tbody>\n",
       "</table>\n",
       "</div>"
      ],
      "text/plain": [
       "                                             headline  \\\n",
       "0   20-year-old woman charged with murder in fatal...   \n",
       "1   20-year-old woman charged with murder in fatal...   \n",
       "2   4 people injured in a shooting outside a Dalla...   \n",
       "3   4 people injured in a shooting outside a Dalla...   \n",
       "4   (Exclusive) Dallas Police Association Presiden...   \n",
       "5   (Exclusive) Dallas Police Association Presiden...   \n",
       "6   Here's 5 things to know about Dallas' efforts ...   \n",
       "7   Here's 5 things to know about Dallas' efforts ...   \n",
       "8   Man vandalizes memorial to slain Austin protes...   \n",
       "9   Man vandalizes memorial to slain Austin protes...   \n",
       "10  Parents who can't work from home: How do you c...   \n",
       "11  Parents who can't work from home: How do you c...   \n",
       "12  Dallas police release surveillance video in ho...   \n",
       "13  Dallas police release surveillance video in ho...   \n",
       "14                                                      \n",
       "15                                                      \n",
       "16  US Officials Say Russia Behind Spread of Virus...   \n",
       "17  US Officials Say Russia Behind Spread of Virus...   \n",
       "18  Three men face capital murder charges in conne...   \n",
       "19  Three men face capital murder charges in conne...   \n",
       "\n",
       "                                              authors         date_publish  \\\n",
       "0   Catherine Marfin,Todd J. Gillman,Eva-Marie Aya...  2020-07-29 14:23:23   \n",
       "1   Catherine Marfin,Todd J. Gillman,Eva-Marie Aya...  2020-07-29 14:23:23   \n",
       "2   Vinayaka Dalmia,Since My Childhood,I Have Alwa...  2020-07-29 08:30:03   \n",
       "3   Vinayaka Dalmia,Since My Childhood,I Have Alwa...  2020-07-29 08:30:03   \n",
       "4                                                                     None   \n",
       "5                                                                     None   \n",
       "6   Cassandra Jaramillo,Todd J. Gillman,Aria Jones...  2020-07-28 19:24:24   \n",
       "7   Cassandra Jaramillo,Todd J. Gillman,Aria Jones...  2020-07-28 19:24:24   \n",
       "8   Marc Ramirez,Lauren Mcgaughy,Todd J. Gillman,A...  2020-07-28 23:54:03   \n",
       "9   Marc Ramirez,Lauren Mcgaughy,Todd J. Gillman,A...  2020-07-28 23:54:03   \n",
       "10  Dana Branham,Imelda García,Todd J. Gillman,Cat...  2020-07-28 22:41:05   \n",
       "11  Dana Branham,Imelda García,Todd J. Gillman,Cat...  2020-07-28 22:41:05   \n",
       "12                                    Mathew Richards  2020-07-28 16:16:00   \n",
       "13                                    Mathew Richards  2020-07-28 16:16:00   \n",
       "14                                                                    None   \n",
       "15                                                                    None   \n",
       "16                                        Eric Tucker  2020-07-28 16:27:28   \n",
       "17                                        Eric Tucker  2020-07-28 16:27:28   \n",
       "18  Catherine Marfin,Todd J. Gillman,Eva-Marie Aya...  2020-07-28 19:57:10   \n",
       "19  Catherine Marfin,Todd J. Gillman,Eva-Marie Aya...  2020-07-28 19:57:10   \n",
       "\n",
       "                                          description  \\\n",
       "0   A 20-year-old woman was taken into custody in ...   \n",
       "1   A 20-year-old woman was taken into custody in ...   \n",
       "2                                                None   \n",
       "3                                                None   \n",
       "4   Watch Now! A grand jury has decided not to ind...   \n",
       "5   Watch Now! A grand jury has decided not to ind...   \n",
       "6   When Tonya McClary moved from New Orleans to D...   \n",
       "7   When Tonya McClary moved from New Orleans to D...   \n",
       "8   Supporters spent hours cleaning a slain Austin...   \n",
       "9   Supporters spent hours cleaning a slain Austin...   \n",
       "10  Reporters at The Dallas Morning News and Al Di...   \n",
       "11  Reporters at The Dallas Morning News and Al Di...   \n",
       "12  DALLAS, Texas -- In an attempt to garner tips,...   \n",
       "13  DALLAS, Texas -- In an attempt to garner tips,...   \n",
       "14                                               None   \n",
       "15                                               None   \n",
       "16  The U.S. government has identified two suspect...   \n",
       "17  The U.S. government has identified two suspect...   \n",
       "18  Three men face capital murder charges in conne...   \n",
       "19  Three men face capital murder charges in conne...   \n",
       "\n",
       "                publication      category         source_domain  \\\n",
       "0               Dallas News         Crime    www.dallasnews.com   \n",
       "1               Dallas News         Crime    www.dallasnews.com   \n",
       "2            Andover Leader  General News     andoverleader.com   \n",
       "3            Andover Leader  General News     andoverleader.com   \n",
       "4               BuzzFeed zz          None    www.buzzfeedzz.com   \n",
       "5               BuzzFeed zz          None    www.buzzfeedzz.com   \n",
       "6               Dallas News      Politics    www.dallasnews.com   \n",
       "7               Dallas News      Politics    www.dallasnews.com   \n",
       "8               Dallas News         Crime    www.dallasnews.com   \n",
       "9               Dallas News         Crime    www.dallasnews.com   \n",
       "10              Dallas News     Education    www.dallasnews.com   \n",
       "11              Dallas News     Education    www.dallasnews.com   \n",
       "12         MyTexasDaily.com          None  www.mytexasdaily.com   \n",
       "13         MyTexasDaily.com          None  www.mytexasdaily.com   \n",
       "14                     None          None                  None   \n",
       "15                     None          None                  None   \n",
       "16  NBC 5 Dallas-Fort Worth          None        www.nbcdfw.com   \n",
       "17  NBC 5 Dallas-Fort Worth          None        www.nbcdfw.com   \n",
       "18              Dallas News         Crime    www.dallasnews.com   \n",
       "19              Dallas News         Crime    www.dallasnews.com   \n",
       "\n",
       "                                              article  \\\n",
       "0   A 20-year-old woman was taken into custody in ...   \n",
       "1   A 20-year-old woman was taken into custody in ...   \n",
       "2   Over the period of the last few days, we have ...   \n",
       "3   Over the period of the last few days, we have ...   \n",
       "4   About this story: (Screen Reader) Although ten...   \n",
       "5   About this story: (Screen Reader) Although ten...   \n",
       "6   When Tonya McClary moved from New Orleans to D...   \n",
       "7   When Tonya McClary moved from New Orleans to D...   \n",
       "8   Supporters spent hours cleaning a slain Austin...   \n",
       "9   Supporters spent hours cleaning a slain Austin...   \n",
       "10  Reporters at The Dallas Morning News and Al Di...   \n",
       "11  Reporters at The Dallas Morning News and Al Di...   \n",
       "12  Close Get email notifications on {{subject}} d...   \n",
       "13  Close Get email notifications on {{subject}} d...   \n",
       "14                                                      \n",
       "15                                                      \n",
       "16  Russian intelligence services are using a trio...   \n",
       "17  Russian intelligence services are using a trio...   \n",
       "18  Three men face capital murder charges in conne...   \n",
       "19  Three men face capital murder charges in conne...   \n",
       "\n",
       "                                              summary  \\\n",
       "0   A 20-year-old woman was taken into custody in ...   \n",
       "1   A 20-year-old woman was taken into custody in ...   \n",
       "2   A shooting took place outside a sports bar in ...   \n",
       "3   A shooting took place outside a sports bar in ...   \n",
       "4   About this story: (Screen Reader)Although ten ...   \n",
       "5   About this story: (Screen Reader)Although ten ...   \n",
       "6   McClary and the revamped Community Police Over...   \n",
       "7   McClary and the revamped Community Police Over...   \n",
       "8   Supporters spent hours cleaning a slain Austin...   \n",
       "9   Supporters spent hours cleaning a slain Austin...   \n",
       "10  Reporters at The Dallas Morning News and Al Di...   \n",
       "11  Reporters at The Dallas Morning News and Al Di...   \n",
       "12  Close Get email notifications on {{subject}} d...   \n",
       "13  Close Get email notifications on {{subject}} d...   \n",
       "14                                                      \n",
       "15                                                      \n",
       "16  The information had previously been classified...   \n",
       "17  The information had previously been classified...   \n",
       "18  Three men face capital murder charges in conne...   \n",
       "19  Three men face capital murder charges in conne...   \n",
       "\n",
       "                                             keywords  \\\n",
       "0   cedar,information,shooting,victim,20yearold,st...   \n",
       "1   cedar,information,shooting,victim,20yearold,st...   \n",
       "2   started,shooting,men,dallas,restrictions,injur...   \n",
       "3   started,shooting,men,dallas,restrictions,injur...   \n",
       "4   dallas,talking,rights,tampering,geiger,guyger,...   \n",
       "5   dallas,talking,rights,tampering,geiger,guyger,...   \n",
       "6   city,oversight,office,internal,efforts,dallas,...   \n",
       "7   city,oversight,office,internal,efforts,dallas,...   \n",
       "8   memorial,man,media,austin,site,white,posted,po...   \n",
       "9   memorial,man,media,austin,site,white,posted,po...   \n",
       "10  cant,youre,willing,work,dallas,sending,childre...   \n",
       "11  cant,youre,willing,work,dallas,sending,childre...   \n",
       "12  attempt,dallas,notification,release,notificati...   \n",
       "13  attempt,dallas,notification,release,notificati...   \n",
       "14                                                      \n",
       "15                                                      \n",
       "16  information,websites,disinformation,officials,...   \n",
       "17  information,websites,disinformation,officials,...   \n",
       "18  murder,shooting,men,capital,held,records,death...   \n",
       "19  murder,shooting,men,capital,held,records,death...   \n",
       "\n",
       "                                                  url  \n",
       "0   https://www.dallasnews.com/news/crime/2020/07/...  \n",
       "1   https://www.dallasnews.com/news/crime/2020/07/...  \n",
       "2   https://andoverleader.com/4-people-injured-in-...  \n",
       "3   https://andoverleader.com/4-people-injured-in-...  \n",
       "4   https://www.buzzfeedzz.com/en-us/news/crime/da...  \n",
       "5   https://www.buzzfeedzz.com/en-us/news/crime/da...  \n",
       "6   https://www.dallasnews.com/news/politics/2020/...  \n",
       "7   https://www.dallasnews.com/news/politics/2020/...  \n",
       "8   https://www.dallasnews.com/news/crime/2020/07/...  \n",
       "9   https://www.dallasnews.com/news/crime/2020/07/...  \n",
       "10  https://www.dallasnews.com/news/education/2020...  \n",
       "11  https://www.dallasnews.com/news/education/2020...  \n",
       "12  https://www.mytexasdaily.com/north-texas/dalla...  \n",
       "13  https://www.mytexasdaily.com/north-texas/dalla...  \n",
       "14  https://www.star-telegram.com/news/local/crime...  \n",
       "15  https://www.star-telegram.com/news/local/crime...  \n",
       "16  https://www.nbcdfw.com/news/local/us-officials...  \n",
       "17  https://www.nbcdfw.com/news/local/us-officials...  \n",
       "18  https://www.dallasnews.com/news/crime/2020/07/...  \n",
       "19  https://www.dallasnews.com/news/crime/2020/07/...  "
      ]
     },
     "execution_count": 15,
     "metadata": {},
     "output_type": "execute_result"
    }
   ],
   "source": [
    "data"
   ]
  },
  {
   "cell_type": "code",
   "execution_count": 16,
   "metadata": {},
   "outputs": [],
   "source": [
    "data.drop_duplicates(inplace=True)"
   ]
  },
  {
   "cell_type": "code",
   "execution_count": 280,
   "metadata": {
    "scrolled": true
   },
   "outputs": [],
   "source": [
    "data.to_csv(\"crime_sample.csv\")"
   ]
  },
  {
   "cell_type": "code",
   "execution_count": 17,
   "metadata": {},
   "outputs": [],
   "source": [
    "with open(\"urls.txt\") as f:\n",
    "    content = f.readlines()\n",
    "# you may also want to remove whitespace characters like `\\n` at the end of each line\n",
    "content = [x.strip() for x in content] "
   ]
  },
  {
   "cell_type": "code",
   "execution_count": 20,
   "metadata": {
    "scrolled": false
   },
   "outputs": [
    {
     "data": {
      "text/plain": [
       "str"
      ]
     },
     "execution_count": 20,
     "metadata": {},
     "output_type": "execute_result"
    }
   ],
   "source": [
    "type(content[0])"
   ]
  },
  {
   "cell_type": "code",
   "execution_count": 152,
   "metadata": {},
   "outputs": [
    {
     "data": {
      "text/plain": [
       "\"Dallas Stars Center Tyler Seguin & Former Goalie Marty Turco Among White NHL Players Finding Their Voice On RacismLong-time Houston resident George Floyd's death in police custody has touched off a reckoning of race and race relations and sports has been part of it, from the NFL and NASCAR to the National Hockey League.\""
      ]
     },
     "execution_count": 152,
     "metadata": {},
     "output_type": "execute_result"
    }
   ],
   "source": [
    "article=Article(rest[2])\n",
    "article.download()\n",
    "article.parse()\n",
    "article.text"
   ]
  },
  {
   "cell_type": "code",
   "execution_count": 96,
   "metadata": {},
   "outputs": [],
   "source": [
    "from newsfetch.google import google_search"
   ]
  },
  {
   "cell_type": "code",
   "execution_count": 273,
   "metadata": {},
   "outputs": [],
   "source": [
    "news=newspaper('https://www.dallasnews.com/news/crime/2020/07/27/man-faces-capital-murder-charge-after-hourlong-crime-spree-left-1-dead-3-injured-across-pleasant-grove/')"
   ]
  },
  {
   "cell_type": "code",
   "execution_count": 279,
   "metadata": {},
   "outputs": [
    {
     "data": {
      "text/plain": [
       "list"
      ]
     },
     "execution_count": 279,
     "metadata": {},
     "output_type": "execute_result"
    }
   ],
   "source": [
    "type(news.authors)"
   ]
  },
  {
   "cell_type": "code",
   "execution_count": 185,
   "metadata": {},
   "outputs": [
    {
     "data": {
      "text/plain": [
       "newsfetch.news.newspaper"
      ]
     },
     "execution_count": 185,
     "metadata": {},
     "output_type": "execute_result"
    }
   ],
   "source": [
    "type(news)"
   ]
  },
  {
   "cell_type": "code",
   "execution_count": 123,
   "metadata": {},
   "outputs": [],
   "source": [
    "newspaperss=Article('https://www.cbsnews.com/news/3-men-face-federal-gun-crime-charges-chicago-trump-operation-legend-initiative-2020-07-24/')\n",
    "newspaperss.download()\n",
    "newspaperss.parse()\n",
    "\n"
   ]
  },
  {
   "cell_type": "code",
   "execution_count": 124,
   "metadata": {},
   "outputs": [
    {
     "data": {
      "text/plain": [
       "'3 men face federal gun crime charges in Chicago as part of Trump\\'s \"Operation Legend\" initiative'"
      ]
     },
     "execution_count": 124,
     "metadata": {},
     "output_type": "execute_result"
    }
   ],
   "source": [
    "newspaperss.title"
   ]
  }
 ],
 "metadata": {
  "kernelspec": {
   "display_name": "Python 3",
   "language": "python",
   "name": "python3"
  },
  "language_info": {
   "codemirror_mode": {
    "name": "ipython",
    "version": 3
   },
   "file_extension": ".py",
   "mimetype": "text/x-python",
   "name": "python",
   "nbconvert_exporter": "python",
   "pygments_lexer": "ipython3",
   "version": "3.7.6"
  }
 },
 "nbformat": 4,
 "nbformat_minor": 4
}
