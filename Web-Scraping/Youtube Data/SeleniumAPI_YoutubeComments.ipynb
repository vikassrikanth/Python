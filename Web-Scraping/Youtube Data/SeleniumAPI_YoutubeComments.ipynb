{
 "cells": [
  {
   "cell_type": "code",
   "execution_count": 1,
   "metadata": {},
   "outputs": [],
   "source": [
    "from selenium import webdriver\n",
    "from selenium.webdriver.support.ui import Select\n",
    "from bs4 import BeautifulSoup\n",
    "import pandas as pd\n",
    "import os,glob,shutil as shutil\n",
    "import signal\n",
    "import time\n",
    "\n",
    "from selenium.webdriver.common.by import By\n",
    "from selenium.webdriver.support.ui import WebDriverWait\n",
    "from selenium.webdriver.support import expected_conditions as EC    \n",
    "#browser = webdriver.Firefox()\n",
    "#browser.get(\"http://ytcomments.klostermann.ca/\")\n",
    "#wait = WebDriverWait(browser, 10)"
   ]
  },
  {
   "cell_type": "code",
   "execution_count": 2,
   "metadata": {},
   "outputs": [],
   "source": [
    "dir_name=r'C:\\Users\\vikas.srikanth'\n",
    "chromeOptions = webdriver.ChromeOptions()\n",
    "prefs = {'safebrowsing.enabled': 'false',\"download.default_directory\":dir_name,'profile.managed_default_content_settings.images':2}\n",
    "chromeOptions.add_experimental_option(\"prefs\", prefs)\n",
    "homeurl=\"http://ytcomments.klostermann.ca/\""
   ]
  },
  {
   "cell_type": "code",
   "execution_count": 3,
   "metadata": {},
   "outputs": [],
   "source": [
    "driver = webdriver.Chrome()"
   ]
  },
  {
   "cell_type": "code",
   "execution_count": 4,
   "metadata": {},
   "outputs": [],
   "source": [
    "driver.get(\"http://ytcomments.klostermann.ca/\")\n"
   ]
  },
  {
   "cell_type": "code",
   "execution_count": 5,
   "metadata": {},
   "outputs": [],
   "source": [
    "python_link = driver.find_elements_by_xpath('//*[@id=\"yt-url\"]')[0]\n",
    "python_link.click()"
   ]
  },
  {
   "cell_type": "code",
   "execution_count": 6,
   "metadata": {},
   "outputs": [],
   "source": [
    "python_link.send_keys('https://www.youtube.com/watch?v=my8iXAjY9GQ')\n",
    "python_link.submit()"
   ]
  },
  {
   "cell_type": "code",
   "execution_count": 7,
   "metadata": {},
   "outputs": [],
   "source": [
    "from selenium.webdriver.support import expected_conditions as ec\n",
    "from selenium.webdriver.common.keys import Keys\n",
    "from selenium.webdriver.common.by import By\n",
    "from selenium.webdriver.support.ui import WebDriverWait"
   ]
  },
  {
   "cell_type": "code",
   "execution_count": 8,
   "metadata": {},
   "outputs": [
    {
     "name": "stdout",
     "output_type": "stream",
     "text": [
      "Page is ready!\n"
     ]
    }
   ],
   "source": [
    "delay=20\n",
    "try:\n",
    "    myElem = WebDriverWait(driver, delay).until(EC.presence_of_element_located((By.ID, 'save-dropdown')))\n",
    "    print(\"Page is ready!\")\n",
    "except TimeoutException:\n",
    "    print(\"Loading took too much time!\")"
   ]
  },
  {
   "cell_type": "code",
   "execution_count": 9,
   "metadata": {},
   "outputs": [],
   "source": [
    "# wait for Fastrack menu item to appear, then click it\n",
    "fastrack = WebDriverWait(driver, 100).until(ec.visibility_of_element_located((By.XPATH, '//*[@id=\"save-dropdown\"]')));\n",
    "fastrack.click()"
   ]
  },
  {
   "cell_type": "code",
   "execution_count": null,
   "metadata": {},
   "outputs": [],
   "source": [
    "#wait = WebDriverWait(driver,20)\n",
    "#wait.until(EC.elementToBeClickable(By.LINK_TEXT, 'CSV'))\n",
    "delay=30\n",
    "WebDriverWait(driver, delay)\n",
    "python_link = driver.find_element_by_xpath('//*[@id=\"save-dropdown\"]')\n",
    "python_link.click()"
   ]
  },
  {
   "cell_type": "code",
   "execution_count": 10,
   "metadata": {},
   "outputs": [],
   "source": [
    "python_link = driver.find_element_by_xpath('//*[@id=\"save-csv\"]')\n",
    "python_link.click()\n"
   ]
  },
  {
   "cell_type": "code",
   "execution_count": 11,
   "metadata": {},
   "outputs": [],
   "source": [
    "#python_link.click()\n",
    "#//*[@id=\"result-tabs\"]/li[2]/a"
   ]
  }
 ],
 "metadata": {
  "kernelspec": {
   "display_name": "Python 3",
   "language": "python",
   "name": "python3"
  },
  "language_info": {
   "codemirror_mode": {
    "name": "ipython",
    "version": 3
   },
   "file_extension": ".py",
   "mimetype": "text/x-python",
   "name": "python",
   "nbconvert_exporter": "python",
   "pygments_lexer": "ipython3",
   "version": "3.7.3"
  }
 },
 "nbformat": 4,
 "nbformat_minor": 2
}
