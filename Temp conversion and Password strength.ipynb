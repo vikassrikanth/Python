{
 "cells": [
  {
   "cell_type": "markdown",
   "metadata": {},
   "source": [
    "1.\tWrite a Python program to convert temperatures to and from Celsius, Fahrenheit. \n",
    "[ Formula : c/5 = f-32/9 [ where c = temperature in Celsius and f = temperature in Fahrenheit ] \n",
    "Expected Output : \n",
    "60C is 140 in Fahrenheit\n",
    "45F is 7 in Celsius \n"
   ]
  },
  {
   "cell_type": "code",
   "execution_count": 6,
   "metadata": {},
   "outputs": [
    {
     "name": "stdout",
     "output_type": "stream",
     "text": [
      "Please input the  temperature you like to convert? (e.g., 45F, 102C etc.) : 89F\n",
      "The temperature in Celsius is 32 degrees.\n"
     ]
    }
   ],
   "source": [
    "temp = input(\"Please input the  temperature you like to convert? (e.g., 45F, 60C etc.) : \")\n",
    "degree = int(temp[:-1])\n",
    "i_convention = temp[-1]\n",
    "\n",
    "if i_convention.upper() == \"C\":\n",
    "  result = int(round((9 * degree) / 5 + 32))\n",
    "  o_convention = \"Fahrenheit\"\n",
    "elif i_convention.upper() == \"F\":\n",
    "  result = int(round((degree - 32) * 5 / 9))\n",
    "  o_convention = \"Celsius\"\n",
    "else:\n",
    "  print(\"Input proper convention.\")\n",
    "  quit()\n",
    "\n",
    "print(\"The temperature in\", o_convention, \"is\", result, \"degrees.\")"
   ]
  },
  {
   "cell_type": "markdown",
   "metadata": {},
   "source": [
    "2.\tWrite a function that uses regular expressions to make sure the password string it is passed is strong. \n",
    "A strong password is defined as one that is at least eight characters long, contains both uppercase and lowercase characters, \n",
    "and has at least one digit. \n",
    "You may need to test the string against multiple regex patterns to validate its strength."
   ]
  },
  {
   "cell_type": "code",
   "execution_count": 4,
   "metadata": {},
   "outputs": [
    {
     "name": "stdout",
     "output_type": "stream",
     "text": [
      "Please set a new password: \n",
      "Lows#93\n",
      "The entered password doesn't have 8 characters\n",
      "12345678\n",
      "The entered password doesn't have a lower case character\n",
      "l1234567\n",
      "The entered password doesn't have an upper case character\n",
      "Lo123456\n",
      "The entered password should have atleast 1 special character\n",
      "Low#123\n",
      "The entered password doesn't have 8 characters\n",
      "Lowes#930\n",
      "New Password is Valid\n"
     ]
    }
   ],
   "source": [
    "import re\n",
    "print('Please set a new password: ')\n",
    "\n",
    "def validPassword():\n",
    "    while True:\n",
    "        password = input()  \n",
    "        check = lowcase.search(password)\n",
    "        if len(password)<8:        #This is to check if the entered password has atleast 8 characters\n",
    "            print('The entered password doesn\\'t have 8 characters')\n",
    "            continue\n",
    "        if lowercase.search(password) == None :\n",
    "            print('The entered password doesn\\'t have a lower case character')\n",
    "            continue        \n",
    "        if uppercase.search(password) == None:\n",
    "            print('The entered password doesn\\'t have an upper case character')\n",
    "            continue        \n",
    "        if digit.search(password) == None:\n",
    "            print('The entered password doesn\\'t have a digit')\n",
    "            continue\n",
    "        if specialCharacter.search(password) == None:\n",
    "            print('The entered password should have atleast 1 special character')\n",
    "            continue\n",
    "        else:\n",
    "            print('New Password is Valid')\n",
    "            break\n",
    "\n",
    "\n",
    "\n",
    "lowercase = re.compile(r'[a-z]')              # this regex searches for atleast one lower case alphabet\n",
    "uppercase = re.compile(r'[A-Z]')               # this regex searches for atleast one upper case alphabet\n",
    "digit = re.compile(r'(\\d)')                 # this regex searches for atleast one digit\n",
    "specialCharacter = re.compile(r'.*[!@#$&].*') # this regex searches for atleast one special character\n",
    "\n",
    "validPassword()"
   ]
  },
  {
   "cell_type": "code",
   "execution_count": null,
   "metadata": {},
   "outputs": [],
   "source": []
  },
  {
   "cell_type": "code",
   "execution_count": null,
   "metadata": {},
   "outputs": [],
   "source": []
  }
 ],
 "metadata": {
  "kernelspec": {
   "display_name": "Python 3",
   "language": "python",
   "name": "python3"
  },
  "language_info": {
   "codemirror_mode": {
    "name": "ipython",
    "version": 3
   },
   "file_extension": ".py",
   "mimetype": "text/x-python",
   "name": "python",
   "nbconvert_exporter": "python",
   "pygments_lexer": "ipython3",
   "version": "3.6.4"
  }
 },
 "nbformat": 4,
 "nbformat_minor": 2
}
