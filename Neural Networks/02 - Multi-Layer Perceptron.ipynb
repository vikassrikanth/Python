{
 "cells": [
  {
   "cell_type": "markdown",
   "metadata": {},
   "source": [
    "## What we will be doing\n",
    "\n",
    "1. Define parameters - Network and hyper-parameters\n",
    "2. TF Computation Graph\n",
    "3. Multilayer perceptron\n",
    "4. W, b dictionaries\n",
    "5. pred label\n",
    "6. cost & optimizers\n",
    "7. Init session\n",
    "8. Run the session and model\n",
    "9. Eval accuracy"
   ]
  },
  {
   "cell_type": "code",
   "execution_count": 1,
   "metadata": {},
   "outputs": [],
   "source": [
    "# Step 1\n",
    "import tensorflow as tf"
   ]
  },
  {
   "cell_type": "code",
   "execution_count": 2,
   "metadata": {},
   "outputs": [
    {
     "name": "stdout",
     "output_type": "stream",
     "text": [
      "WARNING:tensorflow:From <ipython-input-2-4e25ee396bc7>:2: read_data_sets (from tensorflow.contrib.learn.python.learn.datasets.mnist) is deprecated and will be removed in a future version.\n",
      "Instructions for updating:\n",
      "Please use alternatives such as official/mnist/dataset.py from tensorflow/models.\n",
      "WARNING:tensorflow:From /home/deepkapha/anaconda3/lib/python3.6/site-packages/tensorflow/contrib/learn/python/learn/datasets/mnist.py:260: maybe_download (from tensorflow.contrib.learn.python.learn.datasets.base) is deprecated and will be removed in a future version.\n",
      "Instructions for updating:\n",
      "Please write your own downloading logic.\n",
      "WARNING:tensorflow:From /home/deepkapha/anaconda3/lib/python3.6/site-packages/tensorflow/contrib/learn/python/learn/datasets/mnist.py:262: extract_images (from tensorflow.contrib.learn.python.learn.datasets.mnist) is deprecated and will be removed in a future version.\n",
      "Instructions for updating:\n",
      "Please use tf.data to implement this functionality.\n",
      "Extracting MNIST_data/train-images-idx3-ubyte.gz\n",
      "WARNING:tensorflow:From /home/deepkapha/anaconda3/lib/python3.6/site-packages/tensorflow/contrib/learn/python/learn/datasets/mnist.py:267: extract_labels (from tensorflow.contrib.learn.python.learn.datasets.mnist) is deprecated and will be removed in a future version.\n",
      "Instructions for updating:\n",
      "Please use tf.data to implement this functionality.\n",
      "Extracting MNIST_data/train-labels-idx1-ubyte.gz\n",
      "WARNING:tensorflow:From /home/deepkapha/anaconda3/lib/python3.6/site-packages/tensorflow/contrib/learn/python/learn/datasets/mnist.py:110: dense_to_one_hot (from tensorflow.contrib.learn.python.learn.datasets.mnist) is deprecated and will be removed in a future version.\n",
      "Instructions for updating:\n",
      "Please use tf.one_hot on tensors.\n",
      "Extracting MNIST_data/t10k-images-idx3-ubyte.gz\n",
      "Extracting MNIST_data/t10k-labels-idx1-ubyte.gz\n",
      "WARNING:tensorflow:From /home/deepkapha/anaconda3/lib/python3.6/site-packages/tensorflow/contrib/learn/python/learn/datasets/mnist.py:290: DataSet.__init__ (from tensorflow.contrib.learn.python.learn.datasets.mnist) is deprecated and will be removed in a future version.\n",
      "Instructions for updating:\n",
      "Please use alternatives such as official/mnist/dataset.py from tensorflow/models.\n"
     ]
    }
   ],
   "source": [
    "from tensorflow.examples.tutorials.mnist import input_data\n",
    "mnist = input_data.read_data_sets(\"MNIST_data\", one_hot=True)"
   ]
  },
  {
   "cell_type": "code",
   "execution_count": 3,
   "metadata": {},
   "outputs": [],
   "source": [
    "# Hyperparamters\n",
    "learning_rate   = 0.0001\n",
    "training_epochs = 100\n",
    "batch_size      = 128"
   ]
  },
  {
   "cell_type": "code",
   "execution_count": 4,
   "metadata": {},
   "outputs": [],
   "source": [
    "# Network Parameters\n",
    "n_hidden_1  = 256\n",
    "n_hidden_2  = 256\n",
    "n_input     = 784\n",
    "n_classes   = 10\n",
    "n_samples   = mnist.train.num_examples"
   ]
  },
  {
   "cell_type": "code",
   "execution_count": 5,
   "metadata": {},
   "outputs": [],
   "source": [
    "# TF graph inputs / placeholders\n",
    "x = tf.placeholder(\"float\", [None, n_input])\n",
    "y = tf.placeholder(\"float\", [None, n_classes])"
   ]
  },
  {
   "cell_type": "code",
   "execution_count": 6,
   "metadata": {},
   "outputs": [],
   "source": [
    "# weights and biases\n",
    "weights = {\n",
    "    'h1': tf.Variable(tf.random_normal([n_input, n_hidden_1])),\n",
    "    'h2': tf.Variable(tf.random_normal([n_hidden_1, n_hidden_2])),\n",
    "    'out': tf.Variable(tf.random_normal([n_hidden_2, n_classes]))\n",
    "}\n",
    "\n",
    "biases = {\n",
    "    'b1': tf.Variable(tf.random_normal([n_hidden_1])),\n",
    "    'b2': tf.Variable(tf.random_normal([n_hidden_2])),\n",
    "    'out': tf.Variable(tf.random_normal([n_classes]))\n",
    "                                        \n",
    "}"
   ]
  },
  {
   "cell_type": "code",
   "execution_count": 7,
   "metadata": {},
   "outputs": [],
   "source": [
    "# MLP\n",
    "def mlp(x, weights, biases):\n",
    "    \n",
    "    layer_1 = tf.add(tf.matmul(x, weights['h1']), biases['b1'])\n",
    "    layer_1 = tf.nn.relu(layer_1)\n",
    "    \n",
    "    layer_2 = tf.add(tf.matmul(layer_1, weights['h2']), biases['b2'])\n",
    "    layer_2 = tf.nn.relu(layer_2)\n",
    "    \n",
    "    # final output\n",
    "    \n",
    "    out_layer = tf.add(tf.matmul(layer_2, weights['out']), biases['out'])\n",
    "    return out_layer   "
   ]
  },
  {
   "cell_type": "code",
   "execution_count": 9,
   "metadata": {},
   "outputs": [],
   "source": [
    "# predicted label\n",
    "pred = mlp(x, weights, biases)"
   ]
  },
  {
   "cell_type": "code",
   "execution_count": 10,
   "metadata": {},
   "outputs": [],
   "source": [
    "# costs / optimizers\n",
    "cost = tf.reduce_mean(tf.nn.softmax_cross_entropy_with_logits_v2(labels = y,\n",
    "                                                                logits = pred))\n",
    "optimizer = tf.train.AdamOptimizer(learning_rate=learning_rate).minimize(cost)"
   ]
  },
  {
   "cell_type": "code",
   "execution_count": 11,
   "metadata": {},
   "outputs": [],
   "source": [
    "# init\n",
    "init = tf.global_variables_initializer()"
   ]
  },
  {
   "cell_type": "code",
   "execution_count": 15,
   "metadata": {},
   "outputs": [
    {
     "name": "stdout",
     "output_type": "stream",
     "text": [
      "Epoch: 1 cost= 652.5774\n",
      "Epoch: 2 cost= 233.0886\n",
      "Epoch: 3 cost= 150.4348\n",
      "Epoch: 4 cost= 113.4850\n",
      "Epoch: 5 cost= 93.6356\n",
      "Epoch: 6 cost= 78.8649\n",
      "Epoch: 7 cost= 70.0164\n",
      "Epoch: 8 cost= 62.1307\n",
      "Epoch: 9 cost= 57.3799\n",
      "Epoch: 10 cost= 51.1428\n",
      "Epoch: 11 cost= 47.0162\n",
      "Epoch: 12 cost= 42.7064\n",
      "Epoch: 13 cost= 40.2189\n",
      "Epoch: 14 cost= 37.8968\n",
      "Epoch: 15 cost= 33.9912\n",
      "Epoch: 16 cost= 32.2266\n",
      "Epoch: 17 cost= 31.0380\n",
      "Epoch: 18 cost= 27.8484\n",
      "Epoch: 19 cost= 27.1087\n",
      "Epoch: 20 cost= 25.8658\n",
      "Epoch: 21 cost= 23.3240\n",
      "Epoch: 22 cost= 22.9866\n",
      "Epoch: 23 cost= 21.3621\n",
      "Epoch: 24 cost= 20.3541\n",
      "Epoch: 25 cost= 19.5181\n",
      "Epoch: 26 cost= 18.5219\n",
      "Epoch: 27 cost= 17.4244\n",
      "Epoch: 28 cost= 16.9996\n",
      "Epoch: 29 cost= 15.7448\n",
      "Epoch: 30 cost= 15.1099\n",
      "Epoch: 31 cost= 14.4165\n",
      "Epoch: 32 cost= 14.0238\n",
      "Epoch: 33 cost= 13.1430\n",
      "Epoch: 34 cost= 12.5864\n",
      "Epoch: 35 cost= 11.9487\n",
      "Epoch: 36 cost= 11.5262\n",
      "Epoch: 37 cost= 10.5995\n",
      "Epoch: 38 cost= 10.5712\n",
      "Epoch: 39 cost= 9.9697\n",
      "Epoch: 40 cost= 9.6671\n",
      "Epoch: 41 cost= 9.0438\n",
      "Epoch: 42 cost= 8.6237\n",
      "Epoch: 43 cost= 8.2743\n",
      "Epoch: 44 cost= 7.8794\n",
      "Epoch: 45 cost= 7.5787\n",
      "Epoch: 46 cost= 7.3067\n",
      "Epoch: 47 cost= 6.6865\n",
      "Epoch: 48 cost= 6.7014\n",
      "Epoch: 49 cost= 6.3116\n",
      "Epoch: 50 cost= 5.9709\n",
      "Epoch: 51 cost= 5.5065\n",
      "Epoch: 52 cost= 5.5980\n",
      "Epoch: 53 cost= 5.0208\n",
      "Epoch: 54 cost= 5.0078\n",
      "Epoch: 55 cost= 4.8067\n",
      "Epoch: 56 cost= 4.3781\n",
      "Epoch: 57 cost= 4.3428\n",
      "Epoch: 58 cost= 4.0122\n",
      "Epoch: 59 cost= 3.8392\n",
      "Epoch: 60 cost= 3.6172\n",
      "Epoch: 61 cost= 3.5686\n",
      "Epoch: 62 cost= 3.2763\n",
      "Epoch: 63 cost= 3.1307\n",
      "Epoch: 64 cost= 2.9327\n",
      "Epoch: 65 cost= 2.6574\n",
      "Epoch: 66 cost= 2.7663\n",
      "Epoch: 67 cost= 2.4967\n",
      "Epoch: 68 cost= 2.3571\n",
      "Epoch: 69 cost= 2.3921\n",
      "Epoch: 70 cost= 1.9684\n",
      "Epoch: 71 cost= 1.9915\n",
      "Epoch: 72 cost= 2.0519\n",
      "Epoch: 73 cost= 1.6661\n",
      "Epoch: 74 cost= 1.7617\n",
      "Epoch: 75 cost= 1.5328\n",
      "Epoch: 76 cost= 1.4387\n",
      "Epoch: 77 cost= 1.4085\n",
      "Epoch: 78 cost= 1.3437\n",
      "Epoch: 79 cost= 1.1629\n",
      "Epoch: 80 cost= 1.2256\n",
      "Epoch: 81 cost= 0.9702\n",
      "Epoch: 82 cost= 1.1206\n",
      "Epoch: 83 cost= 0.8929\n",
      "Epoch: 84 cost= 0.7882\n",
      "Epoch: 85 cost= 0.8785\n",
      "Epoch: 86 cost= 0.7233\n",
      "Epoch: 87 cost= 0.7299\n",
      "Epoch: 88 cost= 0.6326\n",
      "Epoch: 89 cost= 0.5872\n",
      "Epoch: 90 cost= 0.5685\n",
      "Epoch: 91 cost= 0.5431\n",
      "Epoch: 92 cost= 0.4182\n",
      "Epoch: 93 cost= 0.4335\n",
      "Epoch: 94 cost= 0.4276\n",
      "Epoch: 95 cost= 0.3735\n",
      "Epoch: 96 cost= 0.2998\n",
      "Epoch: 97 cost= 0.3588\n",
      "Epoch: 98 cost= 0.2854\n",
      "Epoch: 99 cost= 0.2505\n",
      "Epoch: 100 cost= 0.2658\n",
      "Model has completed 100 Epochs of training\n"
     ]
    }
   ],
   "source": [
    "sess = tf.InteractiveSession()\n",
    "\n",
    "sess.run(init)\n",
    "\n",
    "for epoch in range(training_epochs):\n",
    "    avg_cost = 0.0\n",
    "    total_batch = int(n_samples/batch_size)\n",
    "    \n",
    "    # loop over all batches\n",
    "    for i in range(total_batch):\n",
    "        # grab the next batch\n",
    "        batch_x, batch_y = mnist.train.next_batch(batch_size)\n",
    "        # feed in the dict to minimize & optimize cost loss\n",
    "        _, c = sess.run([optimizer, cost], feed_dict={x:batch_x, y:batch_y})\n",
    "        \n",
    "        # compute avg loss\n",
    "        avg_cost += c / total_batch\n",
    "        \n",
    "    \n",
    "    print(\"Epoch: {} cost={: .4f}\".format(epoch+1, avg_cost))\n",
    "\n",
    "print(\"Model has completed {} Epochs of training\".format(training_epochs))"
   ]
  },
  {
   "cell_type": "code",
   "execution_count": 16,
   "metadata": {},
   "outputs": [],
   "source": [
    "# model testing and evaluation\n",
    "correct_predictions = tf.equal(tf.argmax(pred, 1), tf.argmax(y, 1))"
   ]
  },
  {
   "cell_type": "code",
   "execution_count": 18,
   "metadata": {},
   "outputs": [
    {
     "name": "stdout",
     "output_type": "stream",
     "text": [
      "Tensor(\"strided_slice:0\", shape=(), dtype=bool)\n"
     ]
    }
   ],
   "source": [
    "print(correct_predictions[0])"
   ]
  },
  {
   "cell_type": "code",
   "execution_count": 19,
   "metadata": {},
   "outputs": [],
   "source": [
    "correct_predictions = tf.cast(correct_predictions, \"float\")"
   ]
  },
  {
   "cell_type": "code",
   "execution_count": 20,
   "metadata": {},
   "outputs": [
    {
     "name": "stdout",
     "output_type": "stream",
     "text": [
      "Accuracy:  0.9263\n"
     ]
    }
   ],
   "source": [
    "accuracy = tf.reduce_mean(correct_predictions)\n",
    "print(\"Accuracy: \", accuracy.eval({x:mnist.test.images,\n",
    "                                  y:mnist.test.labels}))"
   ]
  },
  {
   "cell_type": "code",
   "execution_count": null,
   "metadata": {},
   "outputs": [],
   "source": []
  }
 ],
 "metadata": {
  "kernelspec": {
   "display_name": "Python 3",
   "language": "python",
   "name": "python3"
  },
  "language_info": {
   "codemirror_mode": {
    "name": "ipython",
    "version": 3
   },
   "file_extension": ".py",
   "mimetype": "text/x-python",
   "name": "python",
   "nbconvert_exporter": "python",
   "pygments_lexer": "ipython3",
   "version": "3.6.4"
  }
 },
 "nbformat": 4,
 "nbformat_minor": 2
}
